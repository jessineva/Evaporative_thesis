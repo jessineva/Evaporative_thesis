{
 "cells": [
  {
   "cell_type": "code",
   "execution_count": 53,
   "id": "7eeb9d10",
   "metadata": {},
   "outputs": [],
   "source": [
    "import pandas as pd\n",
    "import glob as glob"
   ]
  },
  {
   "cell_type": "code",
   "execution_count": 54,
   "id": "3e623bec",
   "metadata": {},
   "outputs": [],
   "source": [
    "nombres = [\"fecha\",\"Ib\",\"Ig\",\"Id\",\"UV\",\"Tamb\",\"Hum\",\"WS\",\"P\"]\n",
    "\n",
    "def importa(f,nombres):\n",
    "    df = pd.read_csv(f,parse_dates=True, names=nombres, skiprows=5, index_col=0)\n",
    "    return df"
   ]
  },
  {
   "cell_type": "code",
   "execution_count": 55,
   "id": "089351a9",
   "metadata": {},
   "outputs": [],
   "source": [
    "f = \"../data/2021/*\"\n",
    "files = glob.glob(f)\n",
    "df = pd.concat([importa(file,nombres) for file in files],axis=0)"
   ]
  },
  {
   "cell_type": "code",
   "execution_count": 56,
   "id": "a968cbab",
   "metadata": {},
   "outputs": [],
   "source": [
    "df.sort_index(inplace=True)"
   ]
  },
  {
   "cell_type": "code",
   "execution_count": 57,
   "id": "28888416",
   "metadata": {},
   "outputs": [],
   "source": [
    "df.to_csv(\"../data/temixco2021\")"
   ]
  },
  {
   "cell_type": "code",
   "execution_count": null,
   "id": "2accb918",
   "metadata": {},
   "outputs": [],
   "source": []
  }
 ],
 "metadata": {
  "kernelspec": {
   "display_name": "Python 3 (ipykernel)",
   "language": "python",
   "name": "python3"
  },
  "language_info": {
   "codemirror_mode": {
    "name": "ipython",
    "version": 3
   },
   "file_extension": ".py",
   "mimetype": "text/x-python",
   "name": "python",
   "nbconvert_exporter": "python",
   "pygments_lexer": "ipython3",
   "version": "3.10.5"
  }
 },
 "nbformat": 4,
 "nbformat_minor": 5
}
